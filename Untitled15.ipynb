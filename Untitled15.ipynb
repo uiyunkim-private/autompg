{
 "cells": [
  {
   "cell_type": "code",
   "execution_count": 1,
   "metadata": {
    "id": "gath_Qa0bsil"
   },
   "outputs": [],
   "source": [
    "import pandas as pd\r\n",
    "import numpy as np\r\n",
    "from sklearn.pipeline import Pipeline\r\n",
    "from sklearn.impute import SimpleImputer\r\n",
    "from sklearn.compose import ColumnTransformer\r\n",
    "from sklearn.preprocessing import StandardScaler, OneHotEncoder, Normalizer\r\n",
    "from sklearn.linear_model import LinearRegression,LogisticRegression,SGDRegressor\r\n",
    "from sklearn.metrics import accuracy_score\r\n",
    "from sklearn.model_selection import train_test_split\r\n",
    "import matplotlib.pyplot as plt"
   ]
  },
  {
   "cell_type": "code",
   "execution_count": 2,
   "metadata": {
    "id": "lH_ic-GObtrG"
   },
   "outputs": [],
   "source": [
    "label_feature = ['MPG']\r\n",
    "numeric_feature = [ 'Cylinders', 'Displacement', 'Horsepower', 'Weight', 'Acceleration', 'Model Year']\r\n",
    "categorical_feature =  ['Origin']\r\n",
    "data = pd.read_csv('auto-mpg.data', names=label_feature+numeric_feature+categorical_feature, na_values='?', comment='\\t', sep=' ', skipinitialspace=True)\r\n",
    "label = data['MPG']\r\n",
    "data = data.drop(['MPG'],axis=1)\r\n",
    "label = np.array(label)\r\n"
   ]
  },
  {
   "cell_type": "code",
   "execution_count": 3,
   "metadata": {
    "id": "bZ_YdaaDbveg"
   },
   "outputs": [],
   "source": [
    "numeric_transformer = Pipeline(steps=[\r\n",
    "    ('imputer', SimpleImputer(missing_values=np.NAN ,strategy='mean')),\r\n",
    "    ('scaler', StandardScaler()),\r\n",
    "    ('norm',Normalizer())\r\n",
    "])\r\n",
    "\r\n",
    "categorical_transformer = Pipeline(steps=[\r\n",
    "    ('onehot', OneHotEncoder())\r\n",
    "])\r\n",
    "\r\n",
    "column_transformer = ColumnTransformer(transformers=[\r\n",
    "    ('num', numeric_transformer, numeric_feature),\r\n",
    "    ('cat', categorical_transformer, categorical_feature)\r\n",
    "])\r\n",
    "\r\n",
    "\r\n",
    "data = column_transformer.fit_transform(data)\r\n",
    "\r\n",
    "\r\n",
    "\r\n",
    "X_train, X_test, y_train, y_test = train_test_split(data, label, test_size=0.25)\r\n"
   ]
  },
  {
   "cell_type": "code",
   "execution_count": 4,
   "metadata": {
    "id": "rod5mAyScali"
   },
   "outputs": [],
   "source": [
    "def plot_regressor(y_pred,y_test):\r\n",
    "    plt.plot(range(0,2000), range(0,2000))\r\n",
    "    lim = max([max(y_pred),max(y_test)])\r\n",
    "    plt.scatter(y_pred,y_test)\r\n",
    "    plt.xlim(0,lim)\r\n",
    "    plt.ylim(0,lim)\r\n",
    "    plt.show()"
   ]
  },
  {
   "cell_type": "code",
   "execution_count": 8,
   "metadata": {
    "colab": {
     "base_uri": "https://localhost:8080/",
     "height": 244
    },
    "id": "LOZHxUpHb0cb",
    "outputId": "2301e3be-9736-4de7-a747-c1e8b039650e"
   },
   "outputs": [
    {
     "name": "stdout",
     "output_type": "stream",
     "text": [
      "0.8057393412290778\n",
      "0.8161026380268899\n"
     ]
    },
    {
     "data": {
      "image/png": "[encoded data removed]",
      "text/plain": [
       "<Figure size 432x288 with 1 Axes>"
      ]
     },
     "metadata": {
      "needs_background": "light"
     },
     "output_type": "display_data"
    }
   ],
   "source": [
    "\n",
    "\n",
    "scores = []\n",
    "\r\n",
    "model = SGDRegressor()\r\n",
    "model.fit(X_train,y_train)\r\n",
    "print(model.score(X_train,y_train))\r\n",
    "print(model.score(X_test,y_test))\r\n",
    "y_pred = model.predict(X_test)\r\n",
    "\r\n",
    "plot_regressor(y_pred,y_test)"
   ]
  },
  {
   "cell_type": "code",
   "execution_count": null,
   "metadata": {},
   "outputs": [],
   "source": []
  }
 ],
 "metadata": {
  "colab": {
   "name": "Untitled15.ipynb",
   "provenance": []
  },
  "kernelspec": {
   "display_name": "autompg",
   "language": "python",
   "name": "autompg"
  },
  "language_info": {
   "codemirror_mode": {
    "name": "ipython",
    "version": 3
   },
   "file_extension": ".py",
   "mimetype": "text/x-python",
   "name": "python",
   "nbconvert_exporter": "python",
   "pygments_lexer": "ipython3",
   "version": "3.7.9"
  }
 },
 "nbformat": 4,
 "nbformat_minor": 4
}
